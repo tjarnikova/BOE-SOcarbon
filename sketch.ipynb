{
 "cells": [
  {
   "cell_type": "code",
   "execution_count": null,
   "metadata": {},
   "outputs": [],
   "source": [
    "import xarray as xr\n",
    "import matplotlib.pyplot as plt\n",
    "import numpy as np\n",
    "import pandas as pd"
   ]
  },
  {
   "cell_type": "markdown",
   "metadata": {},
   "source": []
  },
  {
   "cell_type": "code",
   "execution_count": null,
   "metadata": {},
   "outputs": [],
   "source": [
    "### changes in physics - seasonal avg\n",
    "sst_delta = 0.5 #change in SST, deg/yr?\n",
    "mld_delta = 10 #change in MLD, m/yr\n",
    "ot_delta = 5 # change in OT, Sv/yr (SV = 1e6 m3/s)\n",
    "\n",
    "#### gradients in BGC\n",
    "grad_dDICdz = 0.28 # (umol/L/m) average between 0-100m depth and 100-200m\n",
    "grad_DIC_surfdeep = 120 #umol/L between surface and 1000m depth\n",
    "grad_dFedz = 0.00007 #(nmol/L/m) (nmol/L/m)\n",
    "grad_dFev = 0.4 # deep minus surface ocean (nmol/L) between surface and 1000m depth (based on Tagliabue 2012 database)\n",
    "\n",
    "### mean ecosystem parameters\n",
    "mu_L = 1 # 0-1 depending on month  (Light limitation; no units)\n",
    "dmudFe = 0.59 # (1/d/(nmolFe/L)) see worksheet Fer parameters \"C-estimations-v2\"\n",
    "diatconc = 1 # mean diatom concentration (umol/L)\n",
    "\n",
    "### carbonate system variables\n",
    "mn_kg = 0.065 # (mol/m2/yr/ppm) xx-TJ I don't know what this is\n",
    "mn_SST = 2 #(oC)\n",
    "mn_Revfact = 14 # Definition: R=(dCO2/CO2)/(dDIC/DIC)\n",
    "mn_DIC = 2120 # (umol/L)\n",
    "mn_TA = 2290 # (ueq/L)\n",
    "mn_pCO2 = 380 # (ppm)\n",
    "\n",
    "# conversions/ geography\n",
    "PgC_mol = 1.2e14 # pgC/mol\n",
    "SO_area = 5.94e13 # assuming 1/6 of the global ocean south of 50S, calculate this from mesh mask\n"
   ]
  },
  {
   "cell_type": "code",
   "execution_count": null,
   "metadata": {},
   "outputs": [],
   "source": []
  },
  {
   "cell_type": "code",
   "execution_count": 1,
   "metadata": {},
   "outputs": [],
   "source": [
    "def effect_SST(mn_kg,mn_pCO2,sst_delta,PgC_mol,SO_area):\n",
    "    \n",
    "    dfco2 = mn_kg*0.04*mn_pCO2*sst_delta #dfCO2 = kg(4%-pCO2/degree x dSST)\n",
    "    dfco2_pgCyr = dfco2 * PgC_mol * SO_area #dfCO2 in PgC/yr\n",
    "\n",
    "    return dfco2_pgCyr \n",
    "\n",
    "def effect_MLD(mld_delta, grad_dDICdz, mn_Revfact, mn_pCO2, mn_DIC, mn_kg, PgC_mol, SO_area ):\n",
    "    dDIC = mld_delta*grad_dDICdz #dDIC = dMLD x dDIC/dz, umol/L\n",
    "    dpCO2 = mn_Revfact * mn_pCO2 / mn_DIC * dDIC #dpCO2 = R x pCO2/DIC x dDIC, ppm\n",
    "    dfCO2_DIC = mn_kg * dpCO2 #dfCO2_DIC = kg x dpCO2\n",
    "    dfco2_pgCyr_DIC = dfCO2_DIC * PgC_mol * SO_area \n",
    "    dfcCO2_TA = (-1/3)*dfCO2_DIC\n",
    "    dfco2_pgCyr_TA = dfcCO2_TA * PgC_mol * SO_area \n",
    "\n",
    "    return dfco2_pgCyr_DIC, dfco2_pgCyr_TA\n",
    "\n",
    "def effect_MLD_TA()\n",
    "\n"
   ]
  },
  {
   "cell_type": "code",
   "execution_count": null,
   "metadata": {},
   "outputs": [],
   "source": []
  }
 ],
 "metadata": {
  "kernelspec": {
   "display_name": "ox",
   "language": "python",
   "name": "python3"
  },
  "language_info": {
   "codemirror_mode": {
    "name": "ipython",
    "version": 3
   },
   "file_extension": ".py",
   "mimetype": "text/x-python",
   "name": "python",
   "nbconvert_exporter": "python",
   "pygments_lexer": "ipython3",
   "version": "3.11.4"
  }
 },
 "nbformat": 4,
 "nbformat_minor": 2
}
